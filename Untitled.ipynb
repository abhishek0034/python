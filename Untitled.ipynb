{
 "cells": [
  {
   "cell_type": "code",
   "execution_count": 1,
   "id": "5a4a95fa-9722-475c-bb5e-231ff1edb666",
   "metadata": {},
   "outputs": [
    {
     "name": "stdout",
     "output_type": "stream",
     "text": [
      "R\n"
     ]
    }
   ],
   "source": [
    "state=\"RAJASTHAN\"\n",
    "print(state[0])"
   ]
  },
  {
   "cell_type": "code",
   "execution_count": 2,
   "id": "ff46f8fd-aa0a-47af-a36c-2a1e10d1e11c",
   "metadata": {},
   "outputs": [
    {
     "data": {
      "text/plain": [
       "'RAJA'"
      ]
     },
     "execution_count": 2,
     "metadata": {},
     "output_type": "execute_result"
    }
   ],
   "source": [
    "state=\"RAJASTHAN\"\n",
    "state[0:4]"
   ]
  },
  {
   "cell_type": "code",
   "execution_count": 5,
   "id": "0f2529d1-6ddf-442e-95e5-a8405197d8e5",
   "metadata": {},
   "outputs": [
    {
     "data": {
      "text/plain": [
       "'RAJA'"
      ]
     },
     "execution_count": 5,
     "metadata": {},
     "output_type": "execute_result"
    }
   ],
   "source": [
    "state=\"RAJASTHAN\"\n",
    "state[0:4:1]"
   ]
  },
  {
   "cell_type": "code",
   "execution_count": 6,
   "id": "bbc5bf4a-9d78-4e73-a8a0-e01b5c2f393d",
   "metadata": {},
   "outputs": [
    {
     "data": {
      "text/plain": [
       "'AATA'"
      ]
     },
     "execution_count": 6,
     "metadata": {},
     "output_type": "execute_result"
    }
   ],
   "source": [
    "state=\"RAJASTHAN\"\n",
    "state[1:8:2]"
   ]
  },
  {
   "cell_type": "code",
   "execution_count": 7,
   "id": "c12a1c6f-bc62-438f-b7be-c190a0c94c28",
   "metadata": {},
   "outputs": [
    {
     "data": {
      "text/plain": [
       "'JASTHAN'"
      ]
     },
     "execution_count": 7,
     "metadata": {},
     "output_type": "execute_result"
    }
   ],
   "source": [
    "state=\"RAJASTHAN\"\n",
    "state[2:]"
   ]
  },
  {
   "cell_type": "code",
   "execution_count": 9,
   "id": "5beff000-cc63-47a4-bc21-4bffa4581aab",
   "metadata": {},
   "outputs": [
    {
     "data": {
      "text/plain": [
       "'NAH'"
      ]
     },
     "execution_count": 9,
     "metadata": {},
     "output_type": "execute_result"
    }
   ],
   "source": [
    "state=\"RAJASTHAN\"\n",
    "state[-1:-4:-1]"
   ]
  },
  {
   "cell_type": "code",
   "execution_count": 12,
   "id": "e114cad2-0221-49ac-8ff6-fccd53f6839c",
   "metadata": {},
   "outputs": [
    {
     "name": "stdout",
     "output_type": "stream",
     "text": [
      "odd = > 15\n",
      "even 16\n",
      "odd = > 17\n",
      "even 18\n",
      "odd = > 19\n",
      "even 20\n",
      "odd = > 21\n",
      "even 22\n",
      "odd = > 23\n",
      "even 24\n",
      "odd = > 25\n",
      "even 26\n",
      "odd = > 27\n",
      "even 28\n",
      "odd = > 29\n",
      "even 30\n",
      "odd = > 31\n",
      "even 32\n",
      "odd = > 33\n",
      "even 34\n",
      "odd = > 35\n",
      "even 36\n",
      "odd = > 37\n",
      "even 38\n",
      "odd = > 39\n",
      "even 40\n",
      "odd = > 41\n",
      "even 42\n",
      "odd = > 43\n",
      "even 44\n",
      "odd = > 45\n"
     ]
    }
   ],
   "source": [
    "for i in range (15,46):\n",
    "    if (i%2==0):\n",
    "        print(\"even\",i)\n",
    "    else:\n",
    "        print(\"odd = >\",i)"
   ]
  },
  {
   "cell_type": "code",
   "execution_count": null,
   "id": "063150de-7fb6-422c-8fc5-15ba1d58baf5",
   "metadata": {},
   "outputs": [],
   "source": []
  }
 ],
 "metadata": {
  "kernelspec": {
   "display_name": "Python 3 (ipykernel)",
   "language": "python",
   "name": "python3"
  },
  "language_info": {
   "codemirror_mode": {
    "name": "ipython",
    "version": 3
   },
   "file_extension": ".py",
   "mimetype": "text/x-python",
   "name": "python",
   "nbconvert_exporter": "python",
   "pygments_lexer": "ipython3",
   "version": "3.13.2"
  }
 },
 "nbformat": 4,
 "nbformat_minor": 5
}
